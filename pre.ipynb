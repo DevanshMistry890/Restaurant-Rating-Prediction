{
 "cells": [
  {
   "cell_type": "code",
   "execution_count": 2,
   "metadata": {},
   "outputs": [],
   "source": [
    "import pandas as pd\n",
    "from sklearn import preprocessing"
   ]
  },
  {
   "cell_type": "code",
   "execution_count": 3,
   "metadata": {},
   "outputs": [],
   "source": [
    "df = pd.read_csv('./dataset/final.csv')"
   ]
  },
  {
   "cell_type": "code",
   "execution_count": 1,
   "metadata": {},
   "outputs": [
    {
     "name": "stdout",
     "output_type": "stream",
     "text": [
      "Requirement already satisfied: sweetviz in c:\\users\\devansh890\\anaconda3\\lib\\site-packages (2.1.4)\n",
      "Requirement already satisfied: pandas!=1.0.0,!=1.0.1,!=1.0.2,>=0.25.3 in c:\\users\\devansh890\\anaconda3\\lib\\site-packages (from sweetviz) (1.4.4)\n",
      "Requirement already satisfied: importlib-resources>=1.2.0 in c:\\users\\devansh890\\anaconda3\\lib\\site-packages (from sweetviz) (5.9.0)\n",
      "Requirement already satisfied: tqdm>=4.43.0 in c:\\users\\devansh890\\anaconda3\\lib\\site-packages (from sweetviz) (4.64.1)\n",
      "Requirement already satisfied: matplotlib>=3.1.3 in c:\\users\\devansh890\\anaconda3\\lib\\site-packages (from sweetviz) (3.6.2)\n",
      "Requirement already satisfied: scipy>=1.3.2 in c:\\users\\devansh890\\anaconda3\\lib\\site-packages (from sweetviz) (1.9.3)\n",
      "Requirement already satisfied: numpy>=1.16.0 in c:\\users\\devansh890\\anaconda3\\lib\\site-packages (from sweetviz) (1.23.5)\n",
      "Requirement already satisfied: jinja2>=2.11.1 in c:\\users\\devansh890\\anaconda3\\lib\\site-packages (from sweetviz) (3.1.2)\n",
      "Requirement already satisfied: zipp>=3.1.0 in c:\\users\\devansh890\\anaconda3\\lib\\site-packages (from importlib-resources>=1.2.0->sweetviz) (3.11.0)\n",
      "Requirement already satisfied: MarkupSafe>=2.0 in c:\\users\\devansh890\\anaconda3\\lib\\site-packages (from jinja2>=2.11.1->sweetviz) (2.1.1)\n",
      "Requirement already satisfied: kiwisolver>=1.0.1 in c:\\users\\devansh890\\anaconda3\\lib\\site-packages (from matplotlib>=3.1.3->sweetviz) (1.4.4)\n",
      "Requirement already satisfied: pyparsing>=2.2.1 in c:\\users\\devansh890\\anaconda3\\lib\\site-packages (from matplotlib>=3.1.3->sweetviz) (3.0.9)\n",
      "Requirement already satisfied: cycler>=0.10 in c:\\users\\devansh890\\anaconda3\\lib\\site-packages (from matplotlib>=3.1.3->sweetviz) (0.11.0)\n",
      "Requirement already satisfied: pillow>=6.2.0 in c:\\users\\devansh890\\anaconda3\\lib\\site-packages (from matplotlib>=3.1.3->sweetviz) (9.3.0)\n",
      "Requirement already satisfied: packaging>=20.0 in c:\\users\\devansh890\\anaconda3\\lib\\site-packages (from matplotlib>=3.1.3->sweetviz) (22.0)\n",
      "Requirement already satisfied: python-dateutil>=2.7 in c:\\users\\devansh890\\anaconda3\\lib\\site-packages (from matplotlib>=3.1.3->sweetviz) (2.8.2)\n",
      "Requirement already satisfied: contourpy>=1.0.1 in c:\\users\\devansh890\\anaconda3\\lib\\site-packages (from matplotlib>=3.1.3->sweetviz) (1.0.5)\n",
      "Requirement already satisfied: fonttools>=4.22.0 in c:\\users\\devansh890\\anaconda3\\lib\\site-packages (from matplotlib>=3.1.3->sweetviz) (4.25.0)\n",
      "Requirement already satisfied: pytz>=2020.1 in c:\\users\\devansh890\\anaconda3\\lib\\site-packages (from pandas!=1.0.0,!=1.0.1,!=1.0.2,>=0.25.3->sweetviz) (2022.7)\n",
      "Requirement already satisfied: colorama in c:\\users\\devansh890\\anaconda3\\lib\\site-packages (from tqdm>=4.43.0->sweetviz) (0.4.6)\n",
      "Requirement already satisfied: six>=1.5 in c:\\users\\devansh890\\anaconda3\\lib\\site-packages (from python-dateutil>=2.7->matplotlib>=3.1.3->sweetviz) (1.16.0)\n"
     ]
    },
    {
     "name": "stderr",
     "output_type": "stream",
     "text": [
      "\n",
      "[notice] A new release of pip available: 22.2.2 -> 22.3.1\n",
      "[notice] To update, run: python.exe -m pip install --upgrade pip\n"
     ]
    }
   ],
   "source": [
    "! pip install sweetviz"
   ]
  },
  {
   "cell_type": "code",
   "execution_count": 4,
   "metadata": {},
   "outputs": [
    {
     "data": {
      "application/vnd.jupyter.widget-view+json": {
       "model_id": "8610a1bf41674413a6ac9eb21702840c",
       "version_major": 2,
       "version_minor": 0
      },
      "text/plain": [
       "                                             |          | [  0%]   00:00 -> (? left)"
      ]
     },
     "metadata": {},
     "output_type": "display_data"
    },
    {
     "name": "stdout",
     "output_type": "stream",
     "text": [
      "Report analyze.html was generated.\n"
     ]
    }
   ],
   "source": [
    "import sweetviz as sv\n",
    "analyze_report = sv.analyze(df)\n",
    "analyze_report.show_html('analyze.html', open_browser=False)"
   ]
  },
  {
   "cell_type": "code",
   "execution_count": 75,
   "metadata": {},
   "outputs": [
    {
     "data": {
      "text/plain": [
       "Index(['name', 'onlineorder', 'booktable', 'rate', 'location', 'cuisines',\n",
       "       'cost', 'type', 'city', 'Mean Rating'],\n",
       "      dtype='object')"
      ]
     },
     "execution_count": 75,
     "metadata": {},
     "output_type": "execute_result"
    }
   ],
   "source": [
    "df.columns"
   ]
  },
  {
   "cell_type": "code",
   "execution_count": 83,
   "metadata": {},
   "outputs": [
    {
     "name": "stdout",
     "output_type": "stream",
     "text": [
      "<class 'pandas.core.frame.DataFrame'>\n",
      "RangeIndex: 23037 entries, 0 to 23036\n",
      "Data columns (total 10 columns):\n",
      " #   Column       Non-Null Count  Dtype  \n",
      "---  ------       --------------  -----  \n",
      " 0   name         23037 non-null  object \n",
      " 1   onlineorder  23037 non-null  bool   \n",
      " 2   booktable    23037 non-null  bool   \n",
      " 3   rate         23037 non-null  int64  \n",
      " 4   location     23037 non-null  object \n",
      " 5   cuisines     23037 non-null  object \n",
      " 6   cost         23037 non-null  int64  \n",
      " 7   type         23037 non-null  object \n",
      " 8   city         23037 non-null  object \n",
      " 9   Mean Rating  23037 non-null  float64\n",
      "dtypes: bool(2), float64(1), int64(2), object(5)\n",
      "memory usage: 1.5+ MB\n"
     ]
    }
   ],
   "source": [
    "df.info()"
   ]
  },
  {
   "cell_type": "code",
   "execution_count": 77,
   "metadata": {},
   "outputs": [
    {
     "data": {
      "text/plain": [
       "name              0\n",
       "onlineorder       0\n",
       "booktable         0\n",
       "rate              0\n",
       "location          0\n",
       "cuisines          0\n",
       "cost              0\n",
       "type           2938\n",
       "city           2938\n",
       "Mean Rating    2938\n",
       "dtype: int64"
      ]
     },
     "execution_count": 77,
     "metadata": {},
     "output_type": "execute_result"
    }
   ],
   "source": [
    "df.isnull().sum()"
   ]
  },
  {
   "cell_type": "code",
   "execution_count": 78,
   "metadata": {},
   "outputs": [],
   "source": [
    "y = df['Mean Rating'].mean()"
   ]
  },
  {
   "cell_type": "code",
   "execution_count": 79,
   "metadata": {},
   "outputs": [],
   "source": [
    "df['Mean Rating'] = df['Mean Rating'].fillna(y)"
   ]
  },
  {
   "cell_type": "code",
   "execution_count": 80,
   "metadata": {},
   "outputs": [],
   "source": [
    "df = df.apply(lambda x: x.fillna(0))"
   ]
  },
  {
   "cell_type": "code",
   "execution_count": 81,
   "metadata": {},
   "outputs": [],
   "source": [
    "df.to_csv(\"./dataset/train.csv\")"
   ]
  },
  {
   "cell_type": "code",
   "execution_count": 82,
   "metadata": {},
   "outputs": [
    {
     "data": {
      "text/plain": [
       "['name',\n",
       " 'onlineorder',\n",
       " 'booktable',\n",
       " 'rate',\n",
       " 'location',\n",
       " 'cuisines',\n",
       " 'cost',\n",
       " 'type',\n",
       " 'city',\n",
       " 'Mean Rating']"
      ]
     },
     "execution_count": 82,
     "metadata": {},
     "output_type": "execute_result"
    }
   ],
   "source": [
    "df.columns.to_list()"
   ]
  },
  {
   "cell_type": "code",
   "execution_count": 9,
   "metadata": {},
   "outputs": [],
   "source": [
    "import logging\n",
    "# log file initialization \n",
    "logging.basicConfig(filename='encoding.log', level=logging.DEBUG,\n",
    "                    format='%(asctime)s:%(levelname)s:%(message)s')"
   ]
  },
  {
   "cell_type": "code",
   "execution_count": 22,
   "metadata": {},
   "outputs": [],
   "source": [
    "df = pd.read_csv('./dataset/train.csv')"
   ]
  },
  {
   "cell_type": "code",
   "execution_count": 33,
   "metadata": {},
   "outputs": [],
   "source": [
    "dy.to_csv('1.csv')"
   ]
  },
  {
   "cell_type": "code",
   "execution_count": 28,
   "metadata": {},
   "outputs": [],
   "source": [
    "cat = ['name','location','type','city','cuisines']"
   ]
  },
  {
   "cell_type": "code",
   "execution_count": 29,
   "metadata": {},
   "outputs": [],
   "source": [
    "for col in cat:\n",
    "    df[col] = df[col].drop_duplicates()"
   ]
  },
  {
   "cell_type": "code",
   "execution_count": 31,
   "metadata": {},
   "outputs": [],
   "source": [
    "dy = df"
   ]
  },
  {
   "cell_type": "code",
   "execution_count": 15,
   "metadata": {},
   "outputs": [],
   "source": [
    "for col in cat:\n",
    "    logging.debug(df[col].unique())"
   ]
  },
  {
   "cell_type": "code",
   "execution_count": 16,
   "metadata": {},
   "outputs": [],
   "source": [
    "list = []"
   ]
  },
  {
   "cell_type": "code",
   "execution_count": 17,
   "metadata": {},
   "outputs": [],
   "source": [
    "list.append(df['name'].unique())"
   ]
  },
  {
   "cell_type": "code",
   "execution_count": 5,
   "metadata": {},
   "outputs": [
    {
     "data": {
      "text/plain": [
       "array(['Buffet', 'Cafes', '0', 'Delivery', 'Desserts', 'Dineout',\n",
       "       'Drinks  nightlife', 'Pubs and bars', 'Cafees'], dtype=object)"
      ]
     },
     "execution_count": 5,
     "metadata": {},
     "output_type": "execute_result"
    }
   ],
   "source": [
    "df['type'].unique()"
   ]
  },
  {
   "cell_type": "code",
   "execution_count": 6,
   "metadata": {},
   "outputs": [
    {
     "data": {
      "text/plain": [
       "array(['Banashankari', '0', 'Bannerghatta Road', 'Basavanagudi',\n",
       "       'Bellandur', 'Brigade Road', 'Brookefield', 'BTM', 'Church Street',\n",
       "       'Electronic City', 'Frazer Town', 'HSR', 'Indiranagar',\n",
       "       'Jayanagar', 'JP Nagar', 'Kalyan Nagar', 'Kammanahalli',\n",
       "       'Koramangala 4th Block', 'Koramangala 5th Block',\n",
       "       'Koramangala 6th Block', 'Koramangala 7th Block', 'Lavelle Road',\n",
       "       'Malleshwaram', 'Marathahalli', 'MG Road', 'New BEL Road',\n",
       "       'Old Airport Road', 'Rajajinagar', 'Residency Road',\n",
       "       'Sarjapur Road', 'Whitefield'], dtype=object)"
      ]
     },
     "execution_count": 6,
     "metadata": {},
     "output_type": "execute_result"
    }
   ],
   "source": [
    "df['city'].unique()"
   ]
  },
  {
   "cell_type": "code",
   "execution_count": 7,
   "metadata": {},
   "outputs": [
    {
     "data": {
      "text/plain": [
       "array(['North Indian Mughlai Chinese', 'Chinese North Indian Thai',\n",
       "       'Cafe Mexican Italian', ..., 'Andhra Hyderabadi Biryani',\n",
       "       'Andhra North Indian South Indian', 'Thai Chinese Momos'],\n",
       "      dtype=object)"
      ]
     },
     "execution_count": 7,
     "metadata": {},
     "output_type": "execute_result"
    }
   ],
   "source": [
    "df['cuisines'].unique()"
   ]
  },
  {
   "cell_type": "code",
   "execution_count": null,
   "metadata": {},
   "outputs": [],
   "source": [
    "dic = {'African Burger': 0, 'African Burger Desserts Beverages Fast Food': 1, 'American': 2, 'American Asian Continental North Indian South Indian Chinese': 3, 'American Asian European North Indian': 4, 'American BBQ': 5, 'American Burger Fast Food': 6, 'American Burger Italian Steak': 7, 'American Cafe Continental French Burger Mexican Desserts Pizza': 8, 'American Cafee Continental': 9, 'American Chinese Continental North Indian': 10, 'American Continental': 11, 'American Continental BBQ Steak': 12, 'American Continental Chinese': 13, 'American Continental Fast Food Steak': 14, 'American Continental North Indian Mediterranean': 15, 'American Continental North Indian Salad': 16, 'American Continental North Indian South Indian': 17, 'American Continental Pizza': 18, 'American Continental Salad': 19, 'American Continental Steak': 20, 'American Continental Steak Salad': 21, 'American European': 22, 'American Fast Food': 23, 'American Finger Food': 24, 'American Finger Food BBQ Steak': 25, 'American Italian': 26, 'American Italian Bakery Desserts Sandwich Beverages Salad Rolls': 27, 'American Mexican Italian Steak': 28, 'American Modern Indian Italian South Indian': 29, 'American North Indian Chinese': 30, 'American North Indian Chinese Finger Food': 31, 'American North Indian Chinese Finger Food Momos': 32, 'American North Indian European TexMex': 33, 'American North Indian Pizza Finger Food Continental Italian': 34, 'American North Indian Salad': 35, 'American Pizza Burger': 36, 'American Sandwich': 37, 'American South Indian Thai Pizza Italian': 38, 'American TexMex Burger BBQ': 39, 'American TexMex Burger BBQ Mexican': 40, 'Andhra': 41, 'Andhra Biryani': 42, 'Andhra Biryani Chinese': 43, 'Andhra Biryani Chinese Hyderabadi North Indian South Indian': 44, 'Andhra Biryani Chinese North Indian': 45, 'Andhra Biryani Chinese North Indian Seafood South Indian': 46, 'Andhra Biryani Chinese South Indian': 47, 'Andhra Biryani North Indian': 48, 'Andhra Biryani North Indian Chinese': 49, 'Andhra Biryani Seafood': 50, 'Andhra Biryani Seafood North Indian': 51, 'Andhra Biryani South Indian': 52, 'Andhra Biryani South Indian Chinese': 53, 'Andhra Chinese Biryani': 54, 'Andhra Chinese North Indian': 55, 'Andhra Chinese North Indian Biryani': 56, 'Andhra Chinese North Indian Hyderabadi': 57, 'Andhra Chinese North Indian Seafood': 58, 'Andhra Chinese North Indian South Indian': 59, 'Andhra Continental Chinese': 60, 'Andhra Hyderabadi Biryani': 61, 'Andhra Hyderabadi Biryani Chinese North Indian': 62, 'Andhra North Indian': 63, 'Andhra North Indian Biryani': 64, 'Andhra North Indian Biryani Beverages': 65, 'Andhra North Indian Biryani Seafood': 66, 'Andhra North Indian Chinese': 67, 'Andhra North Indian Chinese Biryani': 68, 'Andhra North Indian Chinese Biryani Seafood': 69, 'Andhra North Indian Chinese Mangalorean': 70, 'Andhra North Indian Chinese Mangalorean Seafood Biryani': 71, 'Andhra North Indian Chinese Seafood': 72, 'Andhra North Indian Chinese Seafood Biryani': 73, 'Andhra North Indian South Indian': 74, 'Andhra Seafood Biryani': 75, 'Andhra Seafood North Indian Chinese': 76, 'Andhra South Indian': 77, 'Andhra South Indian Biryani': 78, 'Andhra South Indian Chinese North Indian': 79, 'Andhra South Indian Hyderabadi': 80, 'Andhra South Indian North Indian': 81, 'Andhra South Indian North Indian Biryani': 82, 'Arabian': 83, 'Arabian BBQ Rolls Chinese': 84, 'Arabian BBQ Rolls Lebanese': 85, 'Arabian Biryani Chinese Middle Eastern Fast Food North Indian Mughlai Seafood': 86, 'Arabian Biryani Desserts Beverages Salad': 87, 'Arabian Biryani North Indian Chinese Fast Food': 88, 'Arabian Biryani Rolls Kebab': 89, 'Arabian Chinese Continental North Indian Finger Food': 90, 'Arabian Chinese Fast Food': 91, 'Arabian Chinese Fast Food Beverages': 92, 'Arabian Chinese Kerala North Indian Biryani': 93, 'Arabian Chinese North Indian': 94, 'Arabian Fast Food': 95, 'Arabian Kerala Biryani South Indian Chinese BBQ': 96, 'Arabian Kerala North Indian Chinese BBQ': 97, 'Arabian Lebanese Chinese Rolls': 98, 'Arabian Lebanese Chinese Rolls North Indian': 99, 'Arabian Lebanese Mughlai North Indian BBQ': 100, 'Arabian Lebanese Mughlai North Indian BBQ Chinese': 101, 'Arabian Mediterranean North Indian': 102, 'Arabian Middle Eastern': 103, 'Arabian Mughlai Chinese Kebab Fast Food': 104, 'Arabian Mughlai North Indian Chinese Rolls': 105, 'Arabian North Indian': 106, 'Arabian North Indian Beverages': 107, 'Arabian North Indian Biryani Chinese Seafood': 108, 'Arabian North Indian Chinese Beverages': 109, 'Arabian North Indian Chinese Fast Food': 110, 'Arabian North Indian Chinese Kerala Seafood Biryani': 111, 'Arabian North Indian Chinese Salad Beverages': 112, 'Arabian North Indian Chinese Seafood Biryani Beverages': 113, 'Arabian North Indian Chinese Seafood Biryani Rolls Beverages': 114, 'Arabian North Indian Seafood Chinese Biryani': 115, 'Arabian Pizza Greek Lebanese Mediterranean': 116, 'Arabian Rolls North Indian BBQ': 117, 'Arabian Seafood North Indian Chinese BBQ Biryani Beverages': 118, 'Asian': 119, 'Asian American Mexican': 120, 'Asian Beverages': 121, 'Asian Burger Chinese Finger Food': 122, 'Asian Burger Pizza Chinese Finger Food': 123, 'Asian Burmese': 124, 'Asian Chinese': 125, 'Asian Chinese Continental Italian': 126, 'Asian Chinese Continental North Indian South Indian': 127, 'Asian Chinese Japanese BBQ': 128, 'Asian Chinese Momos Fast Food Indonesian Korean': 129, 'Asian Chinese Thai Korean': 130, 'Asian Chinese Thai Momos': 131, 'Asian Chinese Thai Seafood Momos': 132, 'Asian Continental European': 133, 'Asian Continental European Fast Food North Indian Mughlai South Indian': 134, 'Asian Continental European Mediterranean': 135, 'Asian Continental European North Indian': 136, 'Asian Continental European North Indian Mediterranean': 137, 'Asian Continental Finger Food': 138, 'Asian Continental Mediterranean Salad American Biryani': 139, 'Asian Continental North Indian': 140, 'Asian Continental North Indian Italian': 141, 'Asian European Italian Korean Malaysian Thai Vietnamese Chinese': 142, 'Asian Japanese Korean Indonesian Malaysian Singaporean': 143, 'Asian Japanese Korean Thai Sushi': 144, 'Asian Japanese Thai': 145, 'Asian Japanese Thai Malaysian Vietnamese Korean Chinese': 146, 'Asian Japanese Vietnamese Korean Chinese Thai': 147, 'Asian Korean Indonesian Japanese Chinese Thai Momos': 148, 'Asian Malaysian Chinese Thai Momos': 149, 'Asian Mediterranean North Indian BBQ': 150, 'Asian North Indian Continental': 151, 'Asian North Indian South Indian Momos': 152, 'Asian North Indian Thai': 153, 'Asian Thai': 154, 'Asian Thai Chinese BBQ Momos': 155, 'Asian Thai North Indian': 156, 'Asian Thai Vietnamese Malaysian Beverages': 157, 'Assamese': 158, 'Awadhi Bengali North Indian': 159, 'BBQ': 160, 'BBQ Arabian Chinese Kebab Beverages': 161, 'BBQ Arabian Chinese North Indian Desserts': 162, 'BBQ Arabian Rolls Chinese North Indian Juices Kebab Desserts': 163, 'BBQ Biryani Continental': 164, 'BBQ Chinese Japanese Asian': 165, 'BBQ Continental Burger Wraps Pizza Cafee': 166, 'BBQ Continental North Indian Pizza European': 167, 'BBQ Fast Food': 168, 'BBQ Mughlai Biryani': 169, 'BBQ North Indian': 170, 'BBQ North Indian Continental Chinese': 171, 'Bakery': 172, 'Bakery Beverages': 173, 'Bakery Cafe': 174, 'Bakery Cafe Burger Fast Food': 175, 'Bakery Cafe Italian Desserts': 176, 'Bakery Continental Sandwich Beverages Desserts': 177, 'Bakery Desserts': 178, 'Bakery Desserts Beverages': 179, 'Bakery Desserts Cafe Italian Pizza': 180, 'Bakery Desserts Healthy Food': 181, 'Bakery Desserts Italian': 182, 'Bakery Desserts Italian North Indian Fast Food': 183, 'Bakery Desserts Sandwich': 184, 'Bakery Fast Food': 185, 'Bakery Fast Food Beverages Desserts': 186, 'Bakery Fast Food Desserts': 187, 'Bakery Fast Food Italian': 188, 'Bakery Fast Food Pizza Burger': 189, 'Bakery Fast Food Pizza Burger Cafe': 190, 'Bakery French Desserts': 191, 'Bakery Street Food': 192, 'Bar Food Asian European Mediterranean': 193, 'Bengali': 194, 'Bengali Bihari': 195, 'Bengali Chinese North Indian': 196, 'Bengali Chinese North Indian Seafood': 197, 'Bengali Mughlai': 198, 'Bengali North Indian': 199, 'Bengali North Indian Chinese': 200, 'Bengali North Indian Chinese Biryani': 201, 'Bengali North Indian Chinese Rolls': 202, 'Bengali North Indian Oriya': 203, 'Bengali Rolls Chinese': 204, 'Bengali Seafood': 205, 'Bengali Seafood Oriya North Indian Biryani': 206, 'Beverages': 207, 'Beverages Bubble Tea Desserts': 208, 'Beverages Bubble Tea Tea': 209, 'Beverages Cafe Desserts Spanish Bakery': 210, 'Beverages Desserts': 211, 'Beverages Desserts Ice Cream': 212, 'Beverages Desserts Juices': 213, 'Beverages Fast Food': 214, 'Beverages Fast Food Bakery': 215, 'Beverages Fast Food Desserts': 216, 'Beverages Fast Food Tea': 217, 'Beverages Ice Cream': 218, 'Beverages Italian Pizza Burger': 219, 'Beverages Juices': 220, 'Beverages Juices Fast Food': 221, 'Beverages Juices Ice Cream': 222, 'Beverages Juices Ice Cream Fast Food': 223, 'Beverages Juices Ice Cream Fast Food Sandwich': 224, 'Beverages Sandwich': 225, 'Beverages Sandwich Fast Food': 226, 'Beverages Street Food': 227, 'Beverages Tea': 228, 'Bihari': 229, 'Bihari North Indian': 230, 'Bihari North Indian South Indian': 231, 'Biryani': 232, 'Biryani Andhra': 233, 'Biryani Andhra North Indian': 234, 'Biryani Andhra North Indian Chinese': 235, 'Biryani Andhra North Indian Seafood': 236, 'Biryani Bengali': 237, 'Biryani Chettinad Chinese': 238, 'Biryani Chinese': 239, 'Biryani Chinese Andhra': 240, 'Biryani Chinese Continental North Indian Kerala South Indian': 241, 'Biryani Chinese Continental North Indian Pizza': 242, 'Biryani Chinese Fast Food': 243, 'Biryani Chinese Fast Food North Indian': 244, 'Biryani Chinese Kebab': 245, 'Biryani Chinese Mughlai Andhra': 246, 'Biryani Chinese Mughlai Fast Food Kebab': 247, 'Biryani Chinese North Indian': 248, 'Biryani Chinese North Indian Kebab': 249, 'Biryani Chinese North Indian Mangalorean': 250, 'Biryani Chinese North Indian Seafood': 251, 'Biryani Chinese North Indian South Indian': 252, 'Biryani Fast Food': 253, 'Biryani Fast Food North Indian Chinese': 254, 'Biryani Fast Food Rolls': 255, 'Biryani Fast Food Rolls Momos': 256, 'Biryani Hyderabadi': 257, 'Biryani Hyderabadi Andhra North Indian': 258, 'Biryani Hyderabadi Chinese': 259, 'Biryani Hyderabadi Chinese North Indian': 260, 'Biryani Hyderabadi Kebab': 261, 'Biryani Italian BBQ': 262, 'Biryani Kebab': 263, 'Biryani Kebab Continental': 264, 'Biryani Kebab Fast Food': 265, 'Biryani Kebab Kerala': 266, 'Biryani Kebab Rolls': 267, 'Biryani Kebab Rolls Mughlai': 268, 'Biryani Kerala Mughlai Arabian North Indian Juices': 269, 'Biryani Kerala Mughlai Street Food North Indian Chinese South Indian Andhra': 270, 'Biryani Kerala Seafood South Indian': 271, 'Biryani Mughlai': 272, 'Biryani Mughlai Andhra': 273, 'Biryani Mughlai Chinese': 274, 'Biryani Mughlai Chinese Arabian': 275, 'Biryani Mughlai Chinese North Indian': 276, 'Biryani Mughlai Chinese North Indian Kebab': 277, 'Biryani Mughlai North Indian': 278, 'Biryani North Indian': 279, 'Biryani North Indian Andhra': 280, 'Biryani North Indian Arabian': 281, 'Biryani North Indian Charcoal Chicken Chinese Seafood Rolls': 282, 'Biryani North Indian Chinese': 283, 'Biryani North Indian Chinese Andhra': 284, 'Biryani North Indian Chinese Andhra South Indian': 285, 'Biryani North Indian Chinese Hyderabadi': 286, 'Biryani North Indian Chinese Mughlai': 287, 'Biryani North Indian Chinese Rajasthani': 288, 'Biryani North Indian Chinese Seafood': 289, 'Biryani North Indian Italian Chinese Sandwich Desserts': 290, 'Biryani North Indian Kebab': 291, 'Biryani North Indian Mangalorean Seafood': 292, 'Biryani North Indian Mughlai': 293, 'Biryani North Indian Mughlai Fast Food': 294, 'Biryani North Indian Rolls': 295, 'Biryani North Indian Seafood Andhra': 296, 'Biryani North Indian South Indian': 297, 'Biryani North Indian South Indian Chinese': 298, 'Biryani Rolls': 299, 'Biryani Seafood': 300, 'Biryani Seafood Andhra North Indian': 301, 'Biryani South Indian': 302, 'Biryani South Indian Andhra': 303, 'Biryani South Indian Fast Food': 304, 'Biryani South Indian North Indian': 305, 'Biryani South Indian North Indian Chinese': 306, 'Biryani South Indian North Indian Chinese Andhra': 307, 'Bohri': 308, 'British Continental BBQ': 309, 'Burger': 310, 'Burger American Italian': 311, 'Burger BBQ': 312, 'Burger Beverages Fast Food': 313, 'Burger Beverages Rolls': 314, 'Burger Cafe Desserts Sandwich Italian': 315, 'Burger Continental Italian Beverages': 316, 'Burger Desserts Fast Food': 317, 'Burger Desserts Italian Pizza Salad': 318, 'Burger Fast Food': 319, 'Burger Fast Food Beverages': 320, 'Burger Fast Food Roast Chicken Finger Food': 321, 'Burger Juices Beverages Fast Food Cafe Chinese Coffee': 322, 'Burger Pizza Continental': 323, 'Burger Pizza Fast Food': 324, 'Burger Pizza Momos': 325, 'Burger Sandwich Beverages': 326, 'Burger Turkish Arabian Fast Food Salad Healthy Food Desserts': 327, 'Burmese': 328, 'Cafe': 329, 'Cafe American Asian European Steak Salad Desserts': 330, 'Cafe American Asian North Indian': 331, 'Cafe American Burger': 332, 'Cafe American Burger Beverages': 333, 'Cafe American Burger Sandwich Beverages': 334, 'Cafe American Burger Steak': 335, 'Cafe American Continental Italian': 336, 'Cafe American Fast Food Coffee Continental': 337, 'Cafe American Italian Beverages': 338, 'Cafe American Italian Burger': 339, 'Cafe American Italian Continental Chinese': 340, 'Cafe American Italian Pizza Burger': 341, 'Cafe American Pizza': 342, 'Cafe American Salad Continental Healthy Food Italian Coffee Desserts': 343, 'Cafe Arabian Continental Turkish Fast Food Burger Beverages': 344, 'Cafe Asian Burger Continental Italian Salad': 345, 'Cafe Bakery': 346, 'Cafe Bakery Arabian Fast Food': 347, 'Cafe Bakery Beverages': 348, 'Cafe Bakery Continental': 349, 'Cafe Bakery Desserts': 350, 'Cafe Bakery Fast Food': 351, 'Cafe Bakery Fast Food Desserts': 352, 'Cafe Bakery French Jewish Sandwich Vegan Coffee': 353, 'Cafe Bakery Italian': 354, 'Cafe Beverages': 355, 'Cafe Beverages Continental North Indian Chinese': 356, 'Cafe Beverages Desserts': 357, 'Cafe Beverages Fast Food': 358, 'Cafe Beverages Fast Food Street Food': 359, 'Cafe Beverages Healthy Food': 360, 'Cafe Beverages Healthy Food Juices': 361, 'Cafe Burger Beverages': 362, 'Cafe Burger Chinese Fast Food Beverages': 363, 'Cafe Burger Continental Italian Desserts': 364, 'Cafe Burger Continental Pizza Steak': 365, 'Cafe Burger Fast Food': 366, 'Cafe Burger Fast Food Desserts': 367, 'Cafe Burger Italian Desserts': 368, 'Cafe Burger Italian Fast Food': 369, 'Cafe Burger Italian Salad': 370, 'Cafe Burger Pizza Sandwich': 371, 'Cafe Chinese': 372, 'Cafe Chinese Continental': 373, 'Cafe Chinese Continental Fast Food': 374, 'Cafe Chinese Continental Italian': 375, 'Cafe Chinese Pizza North Indian Burger': 376, 'Cafe Coffee': 377, 'Cafe Continental': 378, 'Cafe Continental American Beverages': 379, 'Cafe Continental American Burger': 380, 'Cafe Continental American Desserts': 381, 'Cafe Continental American Italian': 382, 'Cafe Continental Asian': 383, 'Cafe Continental Beverages': 384, 'Cafe Continental Beverages Burger Desserts Pizza Bakery European': 385, 'Cafe Continental Beverages Desserts': 386, 'Cafe Continental Beverages Fast Food': 387, 'Cafe Continental Beverages Healthy Food Desserts Sandwich Pizza Salad': 388, 'Cafe Continental Burger': 389, 'Cafe Continental Burger Salad Healthy Food Italian': 390, 'Cafe Continental Chinese': 391, 'Cafe Continental Chinese Italian': 392, 'Cafe Continental Chinese Momos': 393, 'Cafe Continental Desserts': 394, 'Cafe Continental European Juices': 395, 'Cafe Continental Fast Food': 396, 'Cafe Continental Fast Food Pizza Italian Burger Chinese Desserts': 397, 'Cafe Continental Healthy Food Sandwich Pizza Desserts Beverages': 398, 'Cafe Continental Italian': 399, 'Cafe Continental Italian Beverages Mediterranean': 400, 'Cafe Continental Italian Burger': 401, 'Cafe Continental Italian Burger Beverages': 402, 'Cafe Continental Italian Burger Pizza': 403, 'Cafe Continental Italian Burger Pizza Salad Steak': 404, 'Cafe Continental Italian German French Spanish': 405, 'Cafe Continental Italian Salad': 406, 'Cafe Continental Mediterranean Beverages': 407, 'Cafe Continental Mediterranean Italian Desserts': 408, 'Cafe Continental Mexican': 409, 'Cafe Continental Momos Italian North Indian': 410, 'Cafe Continental North Indian': 411, 'Cafe Continental Pizza Burger Beverages': 412, 'Cafe Continental Pizza Italian Beverages': 413, 'Cafe Continental Salad': 414, 'Cafe Continental Salad Italian': 415, 'Cafe Continental Salad Steak': 416, 'Cafe Continental Sandwich Beverages': 417, 'Cafe Continental Steak': 418, 'Cafe Continental Steak Italian': 419, 'Cafe Continental Thai Chinese': 420, 'Cafe Desserts': 421, 'Cafe Desserts Bakery': 422, 'Cafe Desserts Beverages': 423, 'Cafe Desserts Beverages Italian': 424, 'Cafe Desserts Continental': 425, 'Cafe Desserts Fast Food Burger': 426, 'Cafe Desserts Ice Cream': 427, 'Cafe European Beverages Italian': 428, 'Cafe European Continental': 429, 'Cafe Fast Food': 430, 'Cafe Fast Food Beverages': 431, 'Cafe Fast Food Burger': 432, 'Cafe Fast Food Chinese': 433, 'Cafe Fast Food Continental': 434, 'Cafe Fast Food Continental Chinese Momos': 435, 'Cafe Fast Food Desserts Beverages': 436, 'Cafe Fast Food North Indian': 437, 'Cafe French North Indian': 438, 'Cafe Healthy Food': 439, 'Cafe Healthy Food Asian Italian North Indian Biryani Juices': 440, 'Cafe Healthy Food Fast Food Beverages': 441, 'Cafe Healthy Food Momos': 442, 'Cafe Healthy Food North Indian Biryani Continental Desserts': 443, 'Cafe Healthy Food Salad': 444, 'Cafe Healthy Food Salad Beverages': 445, 'Cafe Healthy Food Salad Beverages Desserts': 446, 'Cafe Healthy Food Salad Continental Beverages Italian Sandwich': 447, 'Cafe Healthy Food South Indian': 448, 'Cafe Italian': 449, 'Cafe Italian American': 450, 'Cafe Italian American Continental': 451, 'Cafe Italian Beverages': 452, 'Cafe Italian Burger American Steak': 453, 'Cafe Italian Chinese Beverages': 454, 'Cafe Italian Coffee': 455, 'Cafe Italian Continental': 456, 'Cafe Italian Continental Beverages': 457, 'Cafe Italian Continental Burger': 458, 'Cafe Italian Continental European': 459, 'Cafe Italian Continental European Biryani Chinese': 460, 'Cafe Italian Desserts': 461, 'Cafe Italian European': 462, 'Cafe Italian Fast Food': 463, 'Cafe Italian Fast Food Desserts': 464, 'Cafe Italian Healthy Food': 465, 'Cafe Italian Mexican Chinese': 466, 'Cafe Italian Pizza': 467, 'Cafe Italian Pizza Beverages Desserts': 468, 'Cafe Italian Pizza Burger Beverages': 469, 'Cafe Italian Pizza Chinese': 470, 'Cafe Italian Pizza Continental': 471, 'Cafe Italian Pizza North Indian': 472, 'Cafe Italian TexMex Fast Food Burger': 473, 'Cafe Japanese': 474, 'Cafe Mediterranean Bakery Greek': 475, 'Cafe Mediterranean Bakery Greek Beverages': 476, 'Cafe Mediterranean Italian Pizza Continental': 477, 'Cafe Mexican Italian': 478, 'Cafe Mexican Italian Momos Beverages': 479, 'Cafe Mexican Italian Pizza': 480, 'Cafe Modern Indian Pizza Burger Desserts': 481, 'Cafe North Indian Chinese': 482, 'Cafe North Indian Chinese Biryani Beverages': 483, 'Cafe North Indian Chinese Continental': 484, 'Cafe North Indian Chinese Fast Food': 485, 'Cafe North Indian Fast Food': 486, 'Cafe North Indian Pizza Sandwich Salad': 487, 'Cafe North Indian Street Food': 488, 'Cafe Pizza Beverages': 489, 'Cafe Pizza Fast Food Beverages': 490, 'Cafe Rolls Fast Food': 491, 'Cafe Salad': 492, 'Cafe Salad Desserts Pizza': 493, 'Cafe Salad Healthy Food Mexican': 494, 'Cafe Salad Wraps Beverages': 495, 'Cafe Sandwich Burger': 496, 'Cafe Sandwich Fast Food Beverages Desserts': 497, 'Cafe Sandwich North Indian Beverages Desserts': 498, 'Cafe Sandwich Pizza North Indian Mexican': 499, 'Cafe Street Food': 500, 'Cafe Tea': 501, 'Cafe Tea Beverages': 502, 'Cafe Tea Beverages Fast Food': 503, 'Cafe Tea Continental Mediterranean Italian Desserts Beverages': 504, 'Cafe Tea North Indian': 505, 'Cafe Tea Street Food': 506, 'Cafee American Continental Steak': 507, 'Cafee Chinese Arabian': 508, 'Cafee Continental North Indian': 509, 'Cafee Continental Pizza Salad': 510, 'Cafee Fast Food Chinese': 511, 'Cafee Fast Food Desserts Beverages': 512, 'Chettinad': 513, 'Chettinad Andhra Kerala': 514, 'Chettinad Biryani South Indian Seafood': 515, 'Chettinad Chinese South Indian': 516, 'Chettinad South Indian': 517, 'Chettinad South Indian Biryani': 518, 'Chettinad South Indian Chinese Seafood Rolls North Indian': 519, 'Chettinad South Indian North Indian': 520, 'Chinese': 521, 'Chinese American Continental Italian North Indian': 522, 'Chinese Asian': 523, 'Chinese Asian American Seafood': 524, 'Chinese Asian Cantonese Tea': 525, 'Chinese Asian Japanese': 526, 'Chinese Asian Momos': 527, 'Chinese Asian Seafood': 528, 'Chinese Beverages': 529, 'Chinese Beverages Momos Thai': 530, 'Chinese Beverages Street Food': 531, 'Chinese Biryani Pizza Italian North Indian': 532, 'Chinese Cafe Italian': 533, 'Chinese Continental': 534, 'Chinese Continental American Steak': 535, 'Chinese Continental Burger Pizza': 536, 'Chinese Continental Fast Food Healthy Food': 537, 'Chinese Continental Finger Food Italian': 538, 'Chinese Continental North Indian': 539, 'Chinese Continental North Indian Burger Pizza': 540, 'Chinese Continental North Indian Burger Pizza Seafood': 541, 'Chinese Continental North Indian Finger Food': 542, 'Chinese Continental North Indian Mexican': 543, 'Chinese Continental North Indian Mughlai Steak': 544, 'Chinese Continental North Indian Pizza South Indian': 545, 'Chinese Continental North Indian South Indian Arabian': 546, 'Chinese Fast Food': 547, 'Chinese Fast Food Cafe': 548, 'Chinese Fast Food Cafe Street Food Finger Food': 549, 'Chinese Fast Food Continental': 550, 'Chinese Fast Food Italian': 551, 'Chinese Fast Food Momos': 552, 'Chinese Fast Food North Indian Rolls': 553, 'Chinese Finger Food North Indian Seafood': 554, 'Chinese Indonesian Japanese Malaysian Thai Vietnamese Momos': 555, 'Chinese Italian North Indian': 556, 'Chinese Malaysian': 557, 'Chinese Momos': 558, 'Chinese Momos Nepalese Tibetan': 559, 'Chinese Momos Seafood': 560, 'Chinese Momos Thai Vietnamese': 561, 'Chinese Naga': 562, 'Chinese Nepalese Tibetan Momos': 563, 'Chinese North Eastern': 564, 'Chinese North Indian': 565, 'Chinese North Indian Arabian': 566, 'Chinese North Indian Arabian Biryani': 567, 'Chinese North Indian Biryani': 568, 'Chinese North Indian Biryani Juices': 569, 'Chinese North Indian Biryani Kebab': 570, 'Chinese North Indian Cafe': 571, 'Chinese North Indian Continental': 572, 'Chinese North Indian Continental Cafe': 573, 'Chinese North Indian Fast Food': 574, 'Chinese North Indian Fast Food Street Food': 575, 'Chinese North Indian Fast Food Street Food Desserts': 576, 'Chinese North Indian Hyderabadi Biryani': 577, 'Chinese North Indian Kerala': 578, 'Chinese North Indian Kerala Mangalorean Seafood': 579, 'Chinese North Indian Mangalorean': 580, 'Chinese North Indian Mexican Fast Food': 581, 'Chinese North Indian Momos Biryani': 582, 'Chinese North Indian Mughlai': 583, 'Chinese North Indian Mughlai Rolls': 584, 'Chinese North Indian Pizza': 585, 'Chinese North Indian Pizza Italian': 586, 'Chinese North Indian Rajasthani Gujarati Fast Food Afghan': 587, 'Chinese North Indian Rolls': 588, 'Chinese North Indian Salad Fast Food': 589, 'Chinese North Indian Seafood': 590, 'Chinese North Indian South Indian': 591, 'Chinese North Indian South Indian Street Food Fast Food': 592, 'Chinese North Indian Street Food': 593, 'Chinese North Indian Thai': 594, 'Chinese Rolls Biryani Momos': 595, 'Chinese Seafood': 596, 'Chinese Seafood Biryani': 597, 'Chinese Seafood Momos': 598, 'Chinese Seafood North Indian Biryani Desserts': 599, 'Chinese Singaporean Thai Asian Nepalese Momos': 600, 'Chinese South Indian Andhra North Indian Biryani': 601, 'Chinese South Indian North Indian': 602, 'Chinese Sushi Asian Thai': 603, 'Chinese Thai': 604, 'Chinese Thai Asian': 605, 'Chinese Thai Asian Malaysian Vietnamese Sri Lankan Burmese': 606, 'Chinese Thai Continental North Indian': 607, 'Chinese Thai Indonesian': 608, 'Chinese Thai Momos': 609, 'Chinese Thai Momos Vietnamese': 610, 'Chinese Thai Seafood': 611, 'Chinese Thai Seafood Malaysian': 612, 'Chinese Thai Seafood Momos': 613, 'Chinese Thai Seafood North Indian Momos': 614, 'Chinese Thai Vietnamese': 615, 'Chinese Tibetan': 616, 'Chinese Tibetan Momos': 617, 'Chinese Tibetan North Indian': 618, 'Chinese Vietnamese Momos Thai': 619, 'Chinese Vietnamese Thai Malaysian': 620, 'Coffee Fast Food Chinese Beverages': 621, 'Coffee South Indian': 622, 'Coffee Street Food': 623, 'Continental': 624, 'Continental American': 625, 'Continental American Asian North Indian Burger': 626, 'Continental American Chinese BBQ Salad': 627, 'Continental American Chinese BBQ Salad Italian': 628, 'Continental American Indonesian Asian Thai': 629, 'Continental American Italian Modern Indian Pizza Burger': 630, 'Continental American Mediterranean Healthy Food': 631, 'Continental American North Indian Chinese': 632, 'Continental American Pizza BBQ': 633, 'Continental American Pizza North Indian Chinese Finger Food Asian Thai': 634, 'Continental American South Indian Italian North Indian Chinese': 635, 'Continental Asian': 636, 'Continental Asian American North Indian Desserts': 637, 'Continental Asian Chinese Italian North Indian': 638, 'Continental Asian Healthy Food Burger Biryani Pizza Italian Fast Food': 639, 'Continental Asian Italian': 640, 'Continental Asian Italian North Indian': 641, 'Continental Asian Modern Indian': 642, 'Continental Asian North Indian': 643, 'Continental Asian North Indian South Indian': 644, 'Continental Asian South Indian North Indian': 645, 'Continental BBQ Finger Food': 646, 'Continental BBQ Salad': 647, 'Continental BBQ Steak': 648, 'Continental Beverages': 649, 'Continental Beverages Burger Coffee Desserts': 650, 'Continental Biryani Desserts Italian North Indian Chinese Modern Indian Asian': 651, 'Continental Biryani Pizza North Indian Chinese Momos Andhra Kebab': 652, 'Continental Burger BBQ': 653, 'Continental Burger Cafe Steak': 654, 'Continental Burger Italian Pizza North Indian Salad': 655, 'Continental Burger Salad Pizza Beverages': 656, 'Continental Cafe Desserts Italian Bakery': 657, 'Continental Cafe Desserts Pizza North Indian Chinese Ice Cream': 658, 'Continental Cafe Desserts Salad Momos': 659, 'Continental Cafe Italian Fast Food Steak': 660, 'Continental Cafe Italian North Indian': 661, 'Continental Cafe Steak': 662, 'Continental Chinese': 663, 'Continental Chinese Fast Food': 664, 'Continental Chinese Fast Food Beverages': 665, 'Continental Chinese Fast Food Rolls Momos': 666, 'Continental Chinese Finger Food North Indian': 667, 'Continental Chinese Italian': 668, 'Continental Chinese North Indian': 669, 'Continental Chinese North Indian Asian Healthy Food Fast Food': 670, 'Continental Chinese North Indian Finger Food': 671, 'Continental Chinese North Indian South Indian': 672, 'Continental Chinese Steak': 673, 'Continental Chinese Thai Italian BBQ Steak': 674, 'Continental Desserts Beverages': 675, 'Continental European Asian Seafood Spanish': 676, 'Continental European BBQ Chinese Asian': 677, 'Continental European Mediterranean Cafe Steak': 678, 'Continental European Salad Beverages Italian Burger': 679, 'Continental Fast Food': 680, 'Continental Fast Food Beverages Desserts': 681, 'Continental Fast Food European': 682, 'Continental Fast Food Salad': 683, 'Continental Fast Food Street Food Momos': 684, 'Continental Finger Food': 685, 'Continental Finger Food Asian Chinese': 686, 'Continental Finger Food Asian North Indian': 687, 'Continental Finger Food North Indian Chinese': 688, 'Continental Finger Food Pizza': 689, 'Continental Finger Food Pizza North Indian': 690, 'Continental Finger Food Pizza North Indian Bar Food': 691, 'Continental Finger Food Seafood Pizza': 692, 'Continental Healthy Food': 693, 'Continental Italian': 694, 'Continental Italian American': 695, 'Continental Italian Beverages': 696, 'Continental Italian Burger': 697, 'Continental Italian Burger American': 698, 'Continental Italian Cafe Beverages Desserts': 699, 'Continental Italian Chinese': 700, 'Continental Italian Chinese North Indian': 701, 'Continental Italian Mediterranean Salad': 702, 'Continental Italian Mexican Asian': 703, 'Continental Italian Mexican North Indian Chinese Steak': 704, 'Continental Italian North Indian': 705, 'Continental Italian North Indian Asian Bakery Chinese European Japanese': 706, 'Continental Italian North Indian Mexican': 707, 'Continental Italian Pizza': 708, 'Continental Italian Steak American': 709, 'Continental Lebanese Middle Eastern North Indian Chinese BBQ Cafe': 710, 'Continental Mediterranean European': 711, 'Continental Mediterranean Italian North Indian Finger Food Asian Momos': 712, 'Continental Mediterranean North Indian Chinese Finger Food': 713, 'Continental Mediterranean South Indian North Indian Asian': 714, 'Continental Mexican Burger Desserts Italian Pizza North Indian Chinese': 715, 'Continental Mexican Chinese North Indian': 716, 'Continental Modern Indian': 717, 'Continental North Indian': 718, 'Continental North Indian Asian': 719, 'Continental North Indian Asian Italian': 720, 'Continental North Indian BBQ Steak': 721, 'Continental North Indian Beverages': 722, 'Continental North Indian Chinese': 723, 'Continental North Indian Chinese American': 724, 'Continental North Indian Chinese American Pizza Finger Food': 725, 'Continental North Indian Chinese BBQ': 726, 'Continental North Indian Chinese Bengali': 727, 'Continental North Indian Chinese European BBQ Finger Food Asian': 728, 'Continental North Indian Chinese Finger Food': 729, 'Continental North Indian Chinese Italian': 730, 'Continental North Indian Chinese Lebanese': 731, 'Continental North Indian Chinese Pizza': 732, 'Continental North Indian Chinese Pizza Thai': 733, 'Continental North Indian Chinese Salad': 734, 'Continental North Indian Chinese Steak': 735, 'Continental North Indian Desserts Beverages': 736, 'Continental North Indian Finger Food': 737, 'Continental North Indian Italian': 738, 'Continental North Indian Italian Chinese': 739, 'Continental North Indian Italian South Indian Finger Food': 740, 'Continental North Indian Japanese Italian': 741, 'Continental North Indian Mughlai': 742, 'Continental North Indian Pizza BBQ': 743, 'Continental North Indian Pizza Italian': 744, 'Continental North Indian South Indian Chinese': 745, 'Continental North Indian South Indian Italian': 746, 'Continental Parsi Chinese North Indian Italian Steak': 747, 'Continental Pizza Burger': 748, 'Continental Pizza Chinese': 749, 'Continental Pizza North Indian Goan Burger Cafe': 750, 'Continental Pizza North Indian Goan Cafe': 751, 'Continental Salad Burger Finger Food Pizza': 752, 'Continental Sandwich Burger Italian Salad Pizza': 753, 'Continental Seafood Bengali Fast Food': 754, 'Continental South Indian Italian North Indian Chinese': 755, 'Continental South Indian Mangalorean Chinese North Indian Seafood': 756, 'Continental South Indian North Indian': 757, 'Continental South Indian North Indian Arabian': 758, 'Continental South Indian North Indian Asian': 759, 'Continental Steak': 760, 'Continental Steak Chinese Salad Desserts Seafood Italian': 761, 'Continental Steak Fast Food': 762, 'Continental Thai Arabian Mexican': 763, 'Continental Thai Malaysian Burmese Korean Vietnamese Chinese North Indian': 764, 'Continental Thai North Indian Chinese': 765, 'Continental Thai Vietnamese American Chinese North Indian Finger Food': 766, 'Desserts': 767, 'Desserts Asian Beverages': 768, 'Desserts Bakery': 769, 'Desserts Bakery Beverages': 770, 'Desserts Bakery Cafe': 771, 'Desserts Belgian Beverages': 772, 'Desserts Beverages': 773, 'Desserts Beverages American': 774, 'Desserts Beverages Bakery Ice Cream': 775, 'Desserts Beverages Cafe Ice Cream': 776, 'Desserts Beverages Fast Food Ice Cream': 777, 'Desserts Beverages Ice Cream': 778, 'Desserts Cafe': 779, 'Desserts Cafe Bakery': 780, 'Desserts Cafe Beverages': 781, 'Desserts Cafe Beverages Burger Fast Food': 782, 'Desserts Cafe Continental': 783, 'Desserts Cafe Fast Food': 784, 'Desserts Cafe Italian Beverages': 785, 'Desserts Continental': 786, 'Desserts Fast Food': 787, 'Desserts Fast Food Beverages': 788, 'Desserts Ice Cream': 789, 'Desserts Ice Cream Beverages': 790, 'Desserts Ice Cream Beverages Fast Food Sandwich': 791, 'Desserts Ice Cream Beverages Sandwich': 792, 'Desserts Italian Pizza': 793, 'Desserts Juices Fast Food': 794, 'Desserts Mithai': 795, 'Desserts North Indian Chinese': 796, 'Desserts Street Food Mithai': 797, 'Desserts Street Food Sandwich Beverages': 798, 'European': 799, 'European American': 800, 'European American Continental North Indian Steak': 801, 'European Asian': 802, 'European Continental': 803, 'European Continental Asian Finger Food': 804, 'European Continental Chinese Thai': 805, 'European French North Indian': 806, 'European French Salad': 807, 'European Italian Asian': 808, 'European Italian Desserts Salad Juices Steak': 809, 'European Italian Seafood Continental': 810, 'European Mediterranean Asian North Indian South Indian Momos': 811, 'European Mediterranean North Indian': 812, 'European Mediterranean North Indian BBQ': 813, 'European Mediterranean Salad': 814, 'European North Indian Mediterranean Asian Salad': 815, 'European Spanish Continental Italian': 816, 'Fast Food': 817, 'Fast Food American Chinese': 818, 'Fast Food Bakery': 819, 'Fast Food Bengali Rolls': 820, 'Fast Food Beverages': 821, 'Fast Food Beverages Momos': 822, 'Fast Food Beverages Rolls': 823, 'Fast Food Biryani': 824, 'Fast Food Biryani Rolls': 825, 'Fast Food Burger': 826, 'Fast Food Burger American': 827, 'Fast Food Burger Beverages': 828, 'Fast Food Burger Beverages Cafe Desserts': 829, 'Fast Food Burger Beverages Rolls Sandwich': 830, 'Fast Food Burger Italian Beverages': 831, 'Fast Food Burger Pizza': 832, 'Fast Food Burger Sandwich Beverages': 833, 'Fast Food Burger Sandwich Pizza': 834, 'Fast Food Cafee': 835, 'Fast Food Chinese': 836, 'Fast Food Chinese Lebanese': 837, 'Fast Food Chinese North Indian American': 838, 'Fast Food Chinese Rolls': 839, 'Fast Food Continental Beverages Salad Healthy Food': 840, 'Fast Food Continental Burger': 841, 'Fast Food Continental Chinese': 842, 'Fast Food Continental Desserts': 843, 'Fast Food Desserts Beverages': 844, 'Fast Food Desserts Cafe': 845, 'Fast Food Desserts Ice Cream': 846, 'Fast Food European': 847, 'Fast Food Healthy Food': 848, 'Fast Food Italian': 849, 'Fast Food Italian Continental': 850, 'Fast Food Juices': 851, 'Fast Food Maharashtrian Rolls': 852, 'Fast Food Mithai': 853, 'Fast Food Momos': 854, 'Fast Food Momos Rolls': 855, 'Fast Food North Indian': 856, 'Fast Food North Indian Chinese': 857, 'Fast Food North Indian Chinese Mughlai Rolls': 858, 'Fast Food North Indian Chinese South Indian': 859, 'Fast Food North Indian Continental': 860, 'Fast Food North Indian Rolls': 861, 'Fast Food North Indian South Indian': 862, 'Fast Food Pizza': 863, 'Fast Food Pizza Rolls Beverages Juices': 864, 'Fast Food Pizza Sandwich': 865, 'Fast Food Rolls': 866, 'Fast Food Rolls Kebab': 867, 'Fast Food Rolls Momos': 868, 'Fast Food Sandwich': 869, 'Fast Food Sandwich Beverages': 870, 'Fast Food Sandwich Italian': 871, 'Fast Food Sandwich South Indian': 872, 'Fast Food Street Food': 873, 'Fast Food Street Food Beverages Chinese': 874, 'Fast Food Street Food Juices': 875, 'Fast Food Street Food North Indian Biryani': 876, 'Fast Food Tea Beverages': 877, 'Finger Food': 878, 'Finger Food American Asian Italian': 879, 'Finger Food American Continental Burger Pizza': 880, 'Finger Food Asian European Italian': 881, 'Finger Food Chinese Continental': 882, 'Finger Food Chinese Italian Burger': 883, 'Finger Food Chinese North Indian': 884, 'Finger Food Continental': 885, 'Finger Food Continental Asian North Indian': 886, 'Finger Food Continental Chinese': 887, 'Finger Food Continental Italian Salad': 888, 'Finger Food Continental North Indian': 889, 'Finger Food Continental North Indian Chinese': 890, 'Finger Food Continental North Indian Italian Japanese': 891, 'Finger Food Continental Pizza': 892, 'Finger Food Continental Pizza Asian North Indian': 893, 'Finger Food Continental Seafood': 894, 'Finger Food Fast Food': 895, 'Finger Food Italian Continental': 896, 'Finger Food Mediterranean North Indian': 897, 'Finger Food North Indian': 898, 'Finger Food North Indian Chinese': 899, 'Finger Food North Indian Chinese Italian': 900, 'Finger Food North Indian Continental': 901, 'Finger Food North Indian Continental Pizza': 902, 'Finger Food North Indian Italian': 903, 'Finger Food Salad Chinese Continental': 904, 'Finger Food South Indian Continental': 905, 'French Italian': 906, 'French Pizza Bakery': 907, 'French Sandwich Salad': 908, 'Goan Asian North Indian European Continental': 909, 'Goan Chinese Biryani': 910, 'Goan Mangalorean': 911, 'Goan Mangalorean Pizza': 912, 'Goan Seafood Konkan Desserts': 913, 'Goan Seafood North Indian Chinese Biryani': 914, 'Gujarati Fast Food': 915, 'Healthy Food': 916, 'Healthy Food Beverages': 917, 'Healthy Food Beverages European Salad': 918, 'Healthy Food Beverages Fast Food': 919, 'Healthy Food Burger Beverages Cafe Sandwich Salad': 920, 'Healthy Food Cafe Beverages': 921, 'Healthy Food Chinese Biryani North Indian Continental Salad American Burger': 922, 'Healthy Food Continental Juices Salad Burger Beverages Desserts': 923, 'Healthy Food Continental North Indian': 924, 'Healthy Food Desserts': 925, 'Healthy Food Mediterranean Desserts Italian Pizza Salad Kebab': 926, 'Healthy Food North Indian Biryani': 927, 'Healthy Food North Indian Biryani Continental Desserts': 928, 'Healthy Food North Indian South Indian': 929, 'Healthy Food North Indian Thai': 930, 'Healthy Food Salad': 931, 'Healthy Food Salad Fast Food': 932, 'Healthy Food Salad Mediterranean': 933, 'Healthy Food Sandwich': 934, 'Healthy Food Sandwich Salad': 935, 'Healthy Food South Indian': 936, 'Healthy Food South Indian Fast Food North Indian Beverages': 937, 'Hyderabadi Andhra Chinese Biryani': 938, 'Hyderabadi Andhra North Indian Chinese South Indian': 939, 'Hyderabadi Biryani': 940, 'Hyderabadi Biryani North Indian': 941, 'Hyderabadi Biryani North Indian Chinese': 942, 'Hyderabadi Chinese Biryani Arabian': 943, 'Hyderabadi Gujarati Maharashtrian': 944, 'Hyderabadi North Indian Chinese Biryani': 945, 'Hyderabadi North Indian South Indian Biryani': 946, 'Ice Cream': 947, 'Ice Cream Bakery Desserts': 948, 'Ice Cream Beverages': 949, 'Ice Cream Beverages Desserts': 950, 'Ice Cream Beverages Fast Food': 951, 'Ice Cream Cafe Beverages Burger Desserts Pizza': 952, 'Ice Cream Cafe Pizza Burger Desserts Beverages': 953, 'Ice Cream Desserts': 954, 'Ice Cream Desserts Bakery': 955, 'Ice Cream Desserts Beverages': 956, 'Ice Cream Desserts Beverages Sandwich': 957, 'Ice Cream Desserts Juices': 958, 'Ice Cream Desserts Rolls': 959, 'Ice Cream Fast Food Burger Pizza Sandwich Desserts Beverages': 960, 'Ice Cream Ice Cream': 961, 'Ice Cream Pizza Beverages': 962, 'Italian': 963, 'Italian American Asian Continental Mexican Momos': 964, 'Italian American Fast Food Wraps Rolls Salad': 965, 'Italian American North Indian': 966, 'Italian American Pizza': 967, 'Italian American Steak Continental BBQ Salad': 968, 'Italian BBQ Asian Fast Food': 969, 'Italian Bakery Fast Food': 970, 'Italian Beverages': 971, 'Italian Biryani Fast Food North Indian Rolls': 972, 'Italian Chinese Continental': 973, 'Italian Chinese Continental North Indian Seafood Thai': 974, 'Italian Chinese Continental Steak': 975, 'Italian Chinese Japanese': 976, 'Italian Continental': 977, 'Italian Continental Fast Food Chinese Momos': 978, 'Italian Continental Pizza': 979, 'Italian European': 980, 'Italian European Mediterranean': 981, 'Italian Fast Food': 982, 'Italian Fast Food Cafe European': 983, 'Italian Fast Food Pizza': 984, 'Italian Fast Food Salad BBQ': 985, 'Italian Mediterranean': 986, 'Italian Mediterranean European Sandwich': 987, 'Italian Mediterranean Pizza': 988, 'Italian Mexican': 989, 'Italian Mexican Continental Pizza': 990, 'Italian Mexican Mediterranean North Indian Continental': 991, 'Italian North Indian': 992, 'Italian North Indian Biryani': 993, 'Italian North Indian Continental': 994, 'Italian North Indian Continental BBQ': 995, 'Italian North Indian Healthy Food Desserts': 996, 'Italian North Indian Lebanese': 997, 'Italian North Indian Mexican': 998, 'Italian North Indian South Indian Chinese': 999, 'Italian Pizza': 1000, 'Italian Pizza Beverages': 1001, 'Italian Pizza Burger': 1002, 'Italian Pizza Fast Food Salad': 1003, 'Italian Pizza Mexican': 1004, 'Italian Pizza North Indian Salad': 1005, 'Italian Pizza Salad': 1006, 'Italian Salad': 1007, 'Italian Salad Healthy Food Cafe Asian Desserts Pizza': 1008, 'Italian Salad Mediterranean': 1009, 'Italian Seafood American Continental': 1010, 'Japanese': 1011, 'Japanese Asian': 1012, 'Japanese Chinese Thai': 1013, 'Japanese Chinese Tibetan Momos': 1014, 'Japanese Italian American Asian North Indian Steak': 1015, 'Japanese North Indian Italian Korean Mexican Thai': 1016, 'Japanese Sushi Asian': 1017, 'Japanese Thai Chinese Korean': 1018, 'Juices': 1019, 'Juices Desserts': 1020, 'Juices Fast Food': 1021, 'Juices Fast Food Desserts Salad': 1022, 'Juices Fast Food South Indian Chinese': 1023, 'Juices Healthy Food': 1024, 'Juices South Indian Chinese Fast Food': 1025, 'Kashmiri': 1026, 'Kashmiri Cafe': 1027, 'Kebab Biryani': 1028, 'Kebab Hyderabadi Biryani Charcoal Chicken': 1029, 'Kebab Rolls': 1030, 'Kerala': 1031, 'Kerala Biryani North Indian Chettinad': 1032, 'Kerala Biryani Seafood North Indian': 1033, 'Kerala Biryani South Indian North Indian Chinese Arabian Beverages': 1034, 'Kerala Biryani South Indian North Indian Chinese Seafood Juices': 1035, 'Kerala Chinese': 1036, 'Kerala Chinese North Indian': 1037, 'Kerala Chinese Seafood North Indian': 1038, 'Kerala Fast Food Beverages': 1039, 'Kerala Konkan': 1040, 'Kerala Mangalorean Maharashtrian Goan Seafood': 1041, 'Kerala Mangalorean Seafood': 1042, 'Kerala North Indian': 1043, 'Kerala North Indian Chinese': 1044, 'Kerala North Indian Chinese Arabian': 1045, 'Kerala North Indian Chinese Rolls Juices': 1046, 'Kerala North Indian Italian Thai': 1047, 'Kerala Seafood': 1048, 'Kerala Seafood Biryani': 1049, 'Kerala Seafood Biryani Desserts': 1050, 'Kerala Seafood Chinese': 1051, 'Kerala Seafood Chinese Biryani Juices': 1052, 'Kerala Seafood South Indian Biryani': 1053, 'Kerala Seafood South Indian Chinese North Indian Charcoal Chicken Beverages': 1054, 'Kerala Seafood South Indian North Indian Chinese': 1055, 'Kerala South Indian': 1056, 'Kerala South Indian Biryani': 1057, 'Kerala South Indian Chinese': 1058, 'Kerala South Indian North Indian Chinese': 1059, 'Kerala South Indian Seafood': 1060, 'Kerala South Indian Seafood Biryani': 1061, 'Konkan Mangalorean North Indian Seafood': 1062, 'Konkan Mangalorean Seafood': 1063, 'Konkan Seafood': 1064, 'Korean': 1065, 'Korean Chinese Japanese': 1066, 'Korean Sushi': 1067, 'Lebanese': 1068, 'Lebanese Arabian Middle Eastern Salad Beverages': 1069, 'Lebanese Greek': 1070, 'Lebanese Mediterranean Afghan': 1071, 'Lebanese Mediterranean Cafe': 1072, 'Lebanese Middle Eastern': 1073, 'Lebanese Turkish': 1074, 'Lucknowi Chinese': 1075, 'Lucknowi Mughlai': 1076, 'Maharashtrian': 1077, 'Maharashtrian North Indian': 1078, 'Maharashtrian Seafood': 1079, 'Malaysian Singaporean Thai': 1080, 'Malaysian Thai Singaporean Asian Chinese Momos': 1081, 'Mangalorean': 1082, 'Mangalorean Chinese North Indian Biryani': 1083, 'Mangalorean Konkan Seafood Kerala': 1084, 'Mangalorean North Indian Chinese Seafood': 1085, 'Mangalorean Seafood': 1086, 'Mangalorean Seafood Chinese Biryani': 1087, 'Mangalorean Seafood Chinese North Indian': 1088, 'Mangalorean Seafood North Indian': 1089, 'Mangalorean Seafood North Indian Chinese': 1090, 'Mangalorean Seafood South Indian': 1091, 'Mangalorean Seafood South Indian North Indian Chinese Mughlai': 1092, 'Mangalorean South Indian': 1093, 'Mediterranean': 1094, 'Mediterranean Arabian Lebanese': 1095, 'Mediterranean Arabian Lebanese Rolls': 1096, 'Mediterranean BBQ': 1097, 'Mediterranean Continental French Italian': 1098, 'Mediterranean Continental Italian Salad': 1099, 'Mediterranean Continental North Indian Mughlai Salad': 1100, 'Mediterranean European Salad': 1101, 'Mediterranean Italian Asian': 1102, 'Mediterranean Italian Mexican': 1103, 'Mediterranean Middle Eastern Wraps Rolls': 1104, 'Mediterranean Pizza Continental Seafood Salad': 1105, 'Mediterranean Pizza Italian Beverages': 1106, 'Mexican': 1107, 'Mexican American Fast Food': 1108, 'Mexican Continental Italian Chinese': 1109, 'Mexican Fast Food': 1110, 'Mexican Italian': 1111, 'Mexican TexMex': 1112, 'Middle Eastern Fast Food Rolls': 1113, 'Mithai': 1114, 'Mithai Fast Food': 1115, 'Mithai North Indian Street Food': 1116, 'Mithai North Indian Street Food Chinese': 1117, 'Mithai South Indian': 1118, 'Mithai Street Food': 1119, 'Mithai Street Food Fast Food': 1120, 'Mithai Street Food North Indian Chinese': 1121, 'Modern Indian': 1122, 'Modern Indian Continental': 1123, 'Modern Indian Continental North Indian': 1124, 'Modern Indian European American': 1125, 'Modern Indian European Asian': 1126, 'Modern Indian North Indian': 1127, 'Modern Indian North Indian Pizza Continental Beverages': 1128, 'Momos Chinese Fast Food': 1129, 'Momos Street Food Rolls': 1130, 'Mughlai Biryani': 1131, 'Mughlai Biryani Fast Food': 1132, 'Mughlai Biryani North Indian': 1133, 'Mughlai Chinese': 1134, 'Mughlai Chinese Kebab': 1135, 'Mughlai Chinese Kerala': 1136, 'Mughlai Fast Food': 1137, 'Mughlai Kebab Chinese': 1138, 'Mughlai North Indian': 1139, 'Mughlai North Indian Biryani': 1140, 'Mughlai North Indian Biryani Afghan': 1141, 'Mughlai North Indian Biryani Chinese': 1142, 'Mughlai North Indian Chinese': 1143, 'Mughlai North Indian Continental': 1144, 'Mughlai North Indian Desserts': 1145, 'Mughlai North Indian Kebab Rolls Chinese': 1146, 'Mughlai North Indian Turkish Afghan': 1147, 'Naga Goan Seafood Chinese': 1148, 'Nepalese Tibetan Momos': 1149, 'North Eastern': 1150, 'North Eastern Asian Naga Steak Momos': 1151, 'North Eastern Chinese': 1152, 'North Eastern Street Food': 1153, 'North Indian': 1154, 'North Indian Afghan': 1155, 'North Indian Afghani': 1156, 'North Indian Afghani Mughlai': 1157, 'North Indian American Italian': 1158, 'North Indian Andhra': 1159, 'North Indian Andhra BBQ Seafood Chinese': 1160, 'North Indian Andhra Chinese': 1161, 'North Indian Arabian Beverages': 1162, 'North Indian Arabian Chinese': 1163, 'North Indian Arabian Mughlai Biryani Seafood Beverages': 1164, 'North Indian Arabian Mughlai Middle Eastern Grill': 1165, 'North Indian Asian Continental': 1166, 'North Indian Asian Continental Bengali Momos': 1167, 'North Indian Asian Seafood Chinese': 1168, 'North Indian Asian South Indian Italian European': 1169, 'North Indian BBQ': 1170, 'North Indian BBQ Kebab Rolls': 1171, 'North Indian BBQ Mughlai': 1172, 'North Indian Bengali': 1173, 'North Indian Bengali Chinese': 1174, 'North Indian Beverages': 1175, 'North Indian Beverages Fast Food': 1176, 'North Indian Bihari': 1177, 'North Indian Bihari Rajasthani': 1178, 'North Indian Biryani': 1179, 'North Indian Biryani Andhra Chinese': 1180, 'North Indian Biryani Andhra South Indian': 1181, 'North Indian Biryani Awadhi Mughlai': 1182, 'North Indian Biryani Chinese': 1183, 'North Indian Biryani Chinese Beverages': 1184, 'North Indian Biryani Chinese Mughlai': 1185, 'North Indian Biryani Chinese Rolls': 1186, 'North Indian Biryani Chinese Street Food': 1187, 'North Indian Biryani Fast Food': 1188, 'North Indian Biryani Mughlai Kebab': 1189, 'North Indian Biryani Mughlai Rolls': 1190, 'North Indian Biryani Rolls Beverages': 1191, 'North Indian Cafe Chinese Fast Food': 1192, 'North Indian Cafe Fast Food Beverages': 1193, 'North Indian Chinese': 1194, 'North Indian Chinese Andhra': 1195, 'North Indian Chinese Andhra Biryani': 1196, 'North Indian Chinese Arabian': 1197, 'North Indian Chinese Arabian BBQ Middle Eastern': 1198, 'North Indian Chinese Arabian Biryani Fast Food': 1199, 'North Indian Chinese Arabian Kebab': 1200, 'North Indian Chinese Arabian Mughlai': 1201, 'North Indian Chinese Arabian Rolls Juices': 1202, 'North Indian Chinese Assamese': 1203, 'North Indian Chinese BBQ': 1204, 'North Indian Chinese Bengali': 1205, 'North Indian Chinese Beverages': 1206, 'North Indian Chinese Biryani': 1207, 'North Indian Chinese Biryani Andhra': 1208, 'North Indian Chinese Biryani Andhra Mangalorean': 1209, 'North Indian Chinese Biryani Beverages': 1210, 'North Indian Chinese Biryani Fast Food': 1211, 'North Indian Chinese Biryani Hyderabadi': 1212, 'North Indian Chinese Biryani Kebab': 1213, 'North Indian Chinese Biryani Kebab Juices': 1214, 'North Indian Chinese Biryani Mangalorean': 1215, 'North Indian Chinese Biryani Rolls': 1216, 'North Indian Chinese Biryani Seafood': 1217, 'North Indian Chinese Biryani South Indian': 1218, 'North Indian Chinese Cafe Desserts': 1219, 'North Indian Chinese Continental': 1220, 'North Indian Chinese Continental Bengali': 1221, 'North Indian Chinese Continental Biryani': 1222, 'North Indian Chinese Continental Italian': 1223, 'North Indian Chinese Continental Mangalorean': 1224, 'North Indian Chinese Continental Mexican': 1225, 'North Indian Chinese Continental Momos': 1226, 'North Indian Chinese Continental Pizza': 1227, 'North Indian Chinese Continental South Indian': 1228, 'North Indian Chinese Continental South Indian Street Food Juices': 1229, 'North Indian Chinese Continental Street Food': 1230, 'North Indian Chinese Continental Thai Salad': 1231, 'North Indian Chinese European': 1232, 'North Indian Chinese Fast Food': 1233, 'North Indian Chinese Fast Food BBQ': 1234, 'North Indian Chinese Fast Food Beverages': 1235, 'North Indian Chinese Fast Food Beverages Desserts': 1236, 'North Indian Chinese Fast Food Biryani': 1237, 'North Indian Chinese Fast Food Rolls Beverages': 1238, 'North Indian Chinese Fast Food Rolls Juices': 1239, 'North Indian Chinese Fast Food Street Food': 1240, 'North Indian Chinese Healthy Food': 1241, 'North Indian Chinese Italian': 1242, 'North Indian Chinese Italian Street Food Desserts': 1243, 'North Indian Chinese Japanese European Seafood': 1244, 'North Indian Chinese Juices': 1245, 'North Indian Chinese Kebab': 1246, 'North Indian Chinese Kebab Beverages': 1247, 'North Indian Chinese Kebab Juices': 1248, 'North Indian Chinese Kerala': 1249, 'North Indian Chinese Kerala Mughlai Arabian Beverages': 1250, 'North Indian Chinese Mangalorean': 1251, 'North Indian Chinese Mediterranean': 1252, 'North Indian Chinese Middle Eastern': 1253, 'North Indian Chinese Momos': 1254, 'North Indian Chinese Momos Rolls': 1255, 'North Indian Chinese Mughlai': 1256, 'North Indian Chinese Mughlai Desserts': 1257, 'North Indian Chinese Mughlai Kebab': 1258, 'North Indian Chinese Mughlai Mexican BBQ': 1259, 'North Indian Chinese Mughlai Rolls': 1260, 'North Indian Chinese Mughlai Seafood': 1261, 'North Indian Chinese Oriya Mithai': 1262, 'North Indian Chinese Pizza': 1263, 'North Indian Chinese Pizza BBQ': 1264, 'North Indian Chinese Rajasthani': 1265, 'North Indian Chinese Rolls': 1266, 'North Indian Chinese Rolls Andhra': 1267, 'North Indian Chinese Rolls Biryani Kebab': 1268, 'North Indian Chinese Rolls Juices': 1269, 'North Indian Chinese Seafood': 1270, 'North Indian Chinese Seafood Biryani': 1271, 'North Indian Chinese Seafood Biryani Mangalorean': 1272, 'North Indian Chinese Seafood Mangalorean': 1273, 'North Indian Chinese Seafood Rolls': 1274, 'North Indian Chinese South Indian': 1275, 'North Indian Chinese South Indian Beverages': 1276, 'North Indian Chinese South Indian Continental': 1277, 'North Indian Chinese South Indian Fast Food': 1278, 'North Indian Chinese South Indian Fast Food Juices': 1279, 'North Indian Chinese South Indian Juices': 1280, 'North Indian Chinese South Indian Kerala': 1281, 'North Indian Chinese South Indian Street Food': 1282, 'North Indian Chinese Street Food': 1283, 'North Indian Chinese Street Food Beverages': 1284, 'North Indian Chinese Street Food Biryani': 1285, 'North Indian Chinese Street Food Fast Food Mithai': 1286, 'North Indian Chinese Street Food Juices': 1287, 'North Indian Chinese Street Food Mithai': 1288, 'North Indian Chinese Street Food Sandwich': 1289, 'North Indian Chinese Thai': 1290, 'North Indian Chinese Thai Continental': 1291, 'North Indian Chinese Thai Momos': 1292, 'North Indian Chinese Thai Mughlai Seafood': 1293, 'North Indian Continental': 1294, 'North Indian Continental Asian': 1295, 'North Indian Continental Asian Italian': 1296, 'North Indian Continental Asian Pizza': 1297, 'North Indian Continental BBQ': 1298, 'North Indian Continental British': 1299, 'North Indian Continental Cafe': 1300, 'North Indian Continental Chettinad Andhra Bengali': 1301, 'North Indian Continental Chinese': 1302, 'North Indian Continental Chinese European': 1303, 'North Indian Continental Chinese Italian': 1304, 'North Indian Continental Chinese Mexican Italian': 1305, 'North Indian Continental Chinese Seafood': 1306, 'North Indian Continental Chinese South Indian': 1307, 'North Indian Continental Chinese Steak': 1308, 'North Indian Continental Chinese Thai': 1309, 'North Indian Continental Fast Food Beverages Pizza': 1310, 'North Indian Continental Finger Food American Asian': 1311, 'North Indian Continental Italian': 1312, 'North Indian Continental Italian Cafe': 1313, 'North Indian Continental Italian Cafe Pizza Finger Food': 1314, 'North Indian Continental Japanese Chinese South Indian': 1315, 'North Indian Continental Mediterranean': 1316, 'North Indian Continental Mediterranean Chinese': 1317, 'North Indian Continental South Indian': 1318, 'North Indian Continental South Indian Asian': 1319, 'North Indian Continental Street Food': 1320, 'North Indian European Mediterranean': 1321, 'North Indian European Mediterranean BBQ': 1322, 'North Indian European Mediterranean BBQ Kebab': 1323, 'North Indian European Thai': 1324, 'North Indian Fast Food': 1325, 'North Indian Fast Food Beverages': 1326, 'North Indian Fast Food Beverages Momos': 1327, 'North Indian Fast Food Biryani': 1328, 'North Indian Fast Food Burger BBQ': 1329, 'North Indian Fast Food Chinese Burger': 1330, 'North Indian Fast Food Rolls': 1331, 'North Indian Fast Food South Indian': 1332, 'North Indian Fast Food Street Food': 1333, 'North Indian Fast Food Street Food Beverages': 1334, 'North Indian Gujarati': 1335, 'North Indian Gujarati Street Food': 1336, 'North Indian Healthy Food': 1337, 'North Indian Healthy Food Beverages': 1338, 'North Indian Hyderabadi Chinese': 1339, 'North Indian Iranian': 1340, 'North Indian Italian': 1341, 'North Indian Italian Asian Continental Mediterranean': 1342, 'North Indian Italian Chinese Asian': 1343, 'North Indian Italian Chinese Japanese': 1344, 'North Indian Italian European Continental': 1345, 'North Indian Italian Finger Food Continental': 1346, 'North Indian Italian South Indian Continental Cafe Salad': 1347, 'North Indian Japanese': 1348, 'North Indian Kashmiri Mughlai': 1349, 'North Indian Kebab': 1350, 'North Indian Kebab Biryani Chinese': 1351, 'North Indian Kebab Biryani Rolls': 1352, 'North Indian Kebab Chinese Fast Food': 1353, 'North Indian Kebab Fast Food': 1354, 'North Indian Kerala': 1355, 'North Indian Kerala Chinese': 1356, 'North Indian Kerala Chinese Biryani Seafood South Indian': 1357, 'North Indian Lebanese Rolls': 1358, 'North Indian Lucknowi': 1359, 'North Indian Lucknowi Afghan': 1360, 'North Indian Lucknowi Gujarati Maharashtrian South Indian Bengali': 1361, 'North Indian Lucknowi Mughlai Biryani': 1362, 'North Indian Maharashtrian South Indian': 1363, 'North Indian Mangalorean Chinese': 1364, 'North Indian Mangalorean Seafood': 1365, 'North Indian Mediterranean Chinese': 1366, 'North Indian Mediterranean European BBQ': 1367, 'North Indian Mexican Continental Street Food': 1368, 'North Indian Mithai': 1369, 'North Indian Modern Indian': 1370, 'North Indian Momos': 1371, 'North Indian Momos Rolls Fast Food': 1372, 'North Indian Mughlai': 1373, 'North Indian Mughlai Afghan': 1374, 'North Indian Mughlai Andhra Biryani': 1375, 'North Indian Mughlai Arabian Chinese': 1376, 'North Indian Mughlai Asian Chinese': 1377, 'North Indian Mughlai Bengali Chinese': 1378, 'North Indian Mughlai Biryani': 1379, 'North Indian Mughlai Biryani Chinese': 1380, 'North Indian Mughlai Biryani Chinese Kebab': 1381, 'North Indian Mughlai Biryani Rolls': 1382, 'North Indian Mughlai Biryani South Indian Beverages': 1383, 'North Indian Mughlai Chinese': 1384, 'North Indian Mughlai Chinese Arabian Kerala': 1385, 'North Indian Mughlai Chinese Rolls': 1386, 'North Indian Mughlai Chinese Seafood': 1387, 'North Indian Mughlai Chinese South Indian': 1388, 'North Indian Mughlai Desserts': 1389, 'North Indian Mughlai Fast Food': 1390, 'North Indian Mughlai Hyderabadi': 1391, 'North Indian Mughlai Italian': 1392, 'North Indian Mughlai Kebab': 1393, 'North Indian Mughlai Lucknowi': 1394, 'North Indian Mughlai Mediterranean': 1395, 'North Indian Mughlai Mediterranean Iranian': 1396, 'North Indian Mughlai Rolls Fast Food': 1397, 'North Indian Mughlai Salad': 1398, 'North Indian Mughlai Seafood Chinese': 1399, 'North Indian Mughlai South Indian Chinese': 1400, 'North Indian Pizza Asian Italian': 1401, 'North Indian Pizza Chinese': 1402, 'North Indian Pizza Fast Food': 1403, 'North Indian Rajasthani': 1404, 'North Indian Rolls': 1405, 'North Indian Rolls Kebab': 1406, 'North Indian Salad Healthy Food': 1407, 'North Indian Sandwich': 1408, 'North Indian Seafood': 1409, 'North Indian Seafood Biryani Kerala': 1410, 'North Indian Seafood Chinese Biryani': 1411, 'North Indian Seafood Middle Eastern Chinese': 1412, 'North Indian Sindhi Seafood': 1413, 'North Indian South Indian': 1414, 'North Indian South Indian Andhra Chinese': 1415, 'North Indian South Indian Asian': 1416, 'North Indian South Indian Asian Italian Continental': 1417, 'North Indian South Indian Biryani': 1418, 'North Indian South Indian Biryani Beverages': 1419, 'North Indian South Indian Biryani Continental': 1420, 'North Indian South Indian Chinese': 1421, 'North Indian South Indian Chinese Andhra Biryani': 1422, 'North Indian South Indian Chinese Arabian': 1423, 'North Indian South Indian Chinese Beverages': 1424, 'North Indian South Indian Chinese Biryani': 1425, 'North Indian South Indian Chinese Biryani Seafood': 1426, 'North Indian South Indian Chinese Continental': 1427, 'North Indian South Indian Chinese Continental Mangalorean': 1428, 'North Indian South Indian Chinese Desserts Street Food': 1429, 'North Indian South Indian Chinese Fast Food': 1430, 'North Indian South Indian Chinese Fast Food Beverages Desserts Street Food': 1431, 'North Indian South Indian Chinese Fast Food Juices': 1432, 'North Indian South Indian Chinese Juices': 1433, 'North Indian South Indian Chinese Seafood': 1434, 'North Indian South Indian Chinese Seafood Kerala Arabian Juices': 1435, 'North Indian South Indian Chinese Street Food': 1436, 'North Indian South Indian Chinese Street Food Mithai': 1437, 'North Indian South Indian Continental': 1438, 'North Indian South Indian Continental American Asian': 1439, 'North Indian South Indian Continental Asian': 1440, 'North Indian South Indian Fast Food Chinese': 1441, 'North Indian South Indian Fast Food Juices': 1442, 'North Indian South Indian Italian Chinese Fast Food': 1443, 'North Indian South Indian Italian Continental': 1444, 'North Indian South Indian Kerala': 1445, 'North Indian South Indian Kerala Seafood': 1446, 'North Indian South Indian Seafood Biryani Chinese': 1447, 'North Indian South Indian Thai Chinese Continental': 1448, 'North Indian Street Food': 1449, 'North Indian Street Food Chinese': 1450, 'North Indian Street Food Chinese Fast Food': 1451, 'North Indian Street Food Juices': 1452, 'North Indian Street Food Mithai': 1453, 'North Indian Street Food Pizza Burger Sandwich': 1454, 'North Indian Thai Chinese Continental': 1455, 'North Indian Thai Japanese Continental Cafe': 1456, 'Oriya': 1457, 'Oriya Bengali': 1458, 'Oriya Fast Food': 1459, 'Oriya North Indian Bengali Chinese': 1460, 'Oriya North Indian Chinese': 1461, 'Parsi North Indian': 1462, 'Pizza': 1463, 'Pizza Biryani North Indian South Indian': 1464, 'Pizza Burger Sandwich Coffee Desserts Continental Salad Asian': 1465, 'Pizza Cafe Italian': 1466, 'Pizza Chinese North Indian': 1467, 'Pizza Chinese Rolls': 1468, 'Pizza Continental North Indian Asian': 1469, 'Pizza Continental North Indian Chinese': 1470, 'Pizza Desserts': 1471, 'Pizza Fast Food': 1472, 'Pizza Fast Food BBQ': 1473, 'Pizza Italian': 1474, 'Pizza Italian Beverages': 1475, 'Pizza Italian Cafee Burger Finger Food Fast Food Sandwich': 1476, 'Pizza Italian Chinese Rolls Biryani': 1477, 'Pizza Italian Chinese Thai': 1478, 'Pizza Italian Continental Desserts': 1479, 'Pizza Italian Desserts': 1480, 'Pizza Italian Salad': 1481, 'Pizza North Indian Modern Indian': 1482, 'Pizza Salad': 1483, 'Pizza Sandwich Burger Fast Food': 1484, 'Pizza South Indian Healthy Food': 1485, 'Portuguese African': 1486, 'Portuguese Wraps Burger Salad': 1487, 'Rajasthani': 1488, 'Rajasthani Gujarati': 1489, 'Rajasthani Gujarati North Indian': 1490, 'Rajasthani Gujarati North Indian South Indian': 1491, 'Rajasthani North Indian': 1492, 'Rajasthani North Indian Chinese': 1493, 'Roast Chicken Burger': 1494, 'Rolls Chinese': 1495, 'Rolls Fast Food': 1496, 'Rolls Fast Food Biryani': 1497, 'Rolls Mughlai': 1498, 'Rolls North Indian Chinese Biryani': 1499, 'Rolls North Indian Fast Food': 1500, 'Russian Continental North Indian': 1501, 'Salad Bakery Cafe Sandwich Italian Burger': 1502, 'Salad Biryani Chinese North Indian Kerala Desserts Seafood South Indian': 1503, 'Salad Cafe Continental Steak Italian Burger Desserts Pizza': 1504, 'Salad Fast Food': 1505, 'Salad Fast Food Sandwich Healthy Food': 1506, 'Salad Healthy Food Italian Juices Mexican Pizza': 1507, 'Salad Healthy Food Sandwich Juices Burger Desserts Pizza': 1508, 'Salad Healthy Food Street Food': 1509, 'Salad Italian Desserts Pizza': 1510, 'Sandwich Beverages': 1511, 'Sandwich Fast Food Momos': 1512, 'Sandwich Pizza Salad': 1513, 'Sandwich Salad North Indian Chinese': 1514, 'Seafood': 1515, 'Seafood BBQ Biryani': 1516, 'Seafood Biryani Beverages South Indian North Indian Kebab': 1517, 'Seafood Biryani Hyderabadi North Indian': 1518, 'Seafood Biryani South Indian Chettinad': 1519, 'Seafood Biryani South Indian Chettinad Chinese Arabian Andhra Kerala': 1520, 'Seafood Biryani South Indian North Indian Chinese Arabian Kebab Kerala': 1521, 'Seafood Biryani South Indian North Indian Chinese Arabian Kerala': 1522, 'Seafood Continental North Indian South Indian': 1523, 'Seafood Fast Food': 1524, 'Seafood Goan North Indian Continental Asian': 1525, 'Seafood Kerala': 1526, 'Seafood Konkan Mangalorean': 1527, 'Seafood Maharashtrian': 1528, 'Seafood Mangalorean': 1529, 'Seafood Mangalorean Chinese': 1530, 'Seafood Mangalorean North Indian Biryani': 1531, 'Seafood Mangalorean North Indian Chinese': 1532, 'Seafood Mangalorean South Indian': 1533, 'Seafood Mexican Continental Finger Food': 1534, 'Seafood North Indian Chinese': 1535, 'Seafood North Indian Chinese Biryani': 1536, 'Seafood North Indian Chinese Continental Mangalorean': 1537, 'Seafood South Indian': 1538, 'Seafood South Indian Bar Food Mangalorean Konkan': 1539, 'Seafood South Indian Chinese Kerala': 1540, 'Seafood South Indian North Indian': 1541, 'Seafood South Indian North Indian Mangalorean Chinese': 1542, 'Singaporean Chinese Thai Malaysian': 1543, 'South American Continental Italian': 1544, 'South Indian': 1545, 'South Indian Andhra Biryani': 1546, 'South Indian Andhra Chinese': 1547, 'South Indian Asian': 1548, 'South Indian Beverages': 1549, 'South Indian Biryani': 1550, 'South Indian Biryani Chinese': 1551, 'South Indian Biryani Chinese North Indian': 1552, 'South Indian Biryani North Indian': 1553, 'South Indian Chettinad': 1554, 'South Indian Chettinad Chinese': 1555, 'South Indian Chettinad Chinese North Indian Andhra Seafood': 1556, 'South Indian Chettinad Kerala Seafood': 1557, 'South Indian Chettinad Kerala Sri Lankan': 1558, 'South Indian Chinese': 1559, 'South Indian Chinese Fast Food': 1560, 'South Indian Chinese North Indian': 1561, 'South Indian Chinese North Indian Biryani': 1562, 'South Indian Chinese North Indian Street Food': 1563, 'South Indian Chinese North Indian Street Food Rolls Juices': 1564, 'South Indian Chinese Seafood': 1565, 'South Indian Chinese Street Food Juices': 1566, 'South Indian Coffee': 1567, 'South Indian Continental North Indian': 1568, 'South Indian Fast Food': 1569, 'South Indian Fast Food Chinese North Indian': 1570, 'South Indian Fast Food Chinese North Indian Street Food': 1571, 'South Indian Fast Food North Indian Desserts': 1572, 'South Indian Fast Food Street Food': 1573, 'South Indian Finger Food': 1574, 'South Indian Hyderabadi': 1575, 'South Indian Kerala': 1576, 'South Indian Kerala Andhra': 1577, 'South Indian Kerala Andhra Biryani Chettinad Konkan Mangalorean': 1578, 'South Indian Kerala Biryani': 1579, 'South Indian Kerala Chinese North Indian': 1580, 'South Indian Kerala North Indian Chinese': 1581, 'South Indian Kerala Seafood': 1582, 'South Indian Mangalorean': 1583, 'South Indian Mangalorean Kerala': 1584, 'South Indian North Indian': 1585, 'South Indian North Indian Biryani': 1586, 'South Indian North Indian Chinese': 1587, 'South Indian North Indian Chinese Bakery Desserts': 1588, 'South Indian North Indian Chinese Beverages': 1589, 'South Indian North Indian Chinese Biryani': 1590, 'South Indian North Indian Chinese Fast Food': 1591, 'South Indian North Indian Chinese Juices': 1592, 'South Indian North Indian Chinese Juices Ice Cream': 1593, 'South Indian North Indian Chinese Kerala': 1594, 'South Indian North Indian Chinese Street Food': 1595, 'South Indian North Indian Chinese Street Food Beverages': 1596, 'South Indian North Indian Chinese Street Food Fast Food': 1597, 'South Indian North Indian Chinese Street Food Juices': 1598, 'South Indian North Indian Continental European': 1599, 'South Indian North Indian Fast Food': 1600, 'South Indian North Indian Fast Food Chinese': 1601, 'South Indian North Indian Fast Food Street Food': 1602, 'South Indian North Indian Kerala': 1603, 'South Indian North Indian Kerala Seafood': 1604, 'South Indian North Indian Seafood Chinese': 1605, 'South Indian North Indian Street Food': 1606, 'South Indian North Indian Street Food Chinese': 1607, 'South Indian North Indian Street Food Chinese Beverages': 1608, 'South Indian Seafood': 1609, 'South Indian Seafood Biryani': 1610, 'South Indian Seafood North Indian Beverages': 1611, 'South Indian Seafood Rolls Beverages': 1612, 'South Indian Street Food': 1613, 'South Indian Street Food Beverages': 1614, 'South Indian Street Food Chinese Fast Food': 1615, 'South Indian Street Food Fast Food': 1616, 'South Indian Street Food Fast Food Desserts Beverages': 1617, 'South Indian Street Food Juices': 1618, 'Spanish': 1619, 'Spanish Italian Mediterranean': 1620, 'Spanish Italian Mediterranean European Salad': 1621, 'Steak Continental American Italian Salad Cafe': 1622, 'Steak Continental Burger American BBQ European Salad': 1623, 'Steak Continental Burger BBQ': 1624, 'Steak Italian Continental American Burger BBQ Salad': 1625, 'Street Food': 1626, 'Street Food American Sandwich Fast Food Beverages Burger Desserts Pizza': 1627, 'Street Food Beverages': 1628, 'Street Food Beverages South Indian North Indian Ice Cream Mithai Rajasthani': 1629, 'Street Food Burger Fast Food': 1630, 'Street Food Chinese Italian North Indian': 1631, 'Street Food Continental Mexican Beverages Cafe Desserts Spanish': 1632, 'Street Food Desserts North Indian Mithai Rajasthani': 1633, 'Street Food Fast Food': 1634, 'Street Food Fast Food Rolls Desserts': 1635, 'Street Food Gujarati': 1636, 'Street Food Maharashtrian': 1637, 'Street Food Mithai': 1638, 'Street Food Mithai Desserts North Indian': 1639, 'Street Food Mithai Momos': 1640, 'Street Food Mithai North Indian Beverages Desserts': 1641, 'Street Food North Indian': 1642, 'Street Food North Indian Mithai Chinese Beverages': 1643, 'Street Food North Indian Rolls': 1644, 'Street Food North Indian South Indian': 1645, 'Street Food Rolls': 1646, 'Street Food South Indian': 1647, 'Sushi Continental Pizza Italian Asian': 1648, 'Sushi Japanese Chinese Thai': 1649, 'Tea Beverages Fast Food': 1650, 'Tea Fast Food Beverages Sandwich': 1651, 'Thai': 1652, 'Thai Asian': 1653, 'Thai Asian Indonesian': 1654, 'Thai Chinese': 1655, 'Thai Chinese Indonesian Asian Momos': 1656, 'Thai Chinese Momos': 1657, 'Thai Chinese North Indian Continental Steak': 1658, 'Thai Continental North Indian': 1659, 'Thai Japanese Chinese': 1660, 'Thai Japanese Korean Burmese Chinese': 1661, 'Thai Momos': 1662, 'Thai Vietnamese Asian Chinese': 1663, 'Tibetan': 1664, 'Tibetan Asian Thai Chinese Momos': 1665, 'Tibetan Chinese Continental Momos': 1666, 'Tibetan Chinese Momos': 1667, 'Tibetan Momos': 1668, 'Tibetan Nepalese': 1669, 'Tibetan Nepalese Momos': 1670, 'Turkish Arabian Fast Food Desserts Healthy Food Salad': 1671, 'Turkish Arabian Fast Food Salad Healthy Food Desserts': 1672, 'Turkish Chinese': 1673, 'Turkish Desserts': 1674, 'Turkish Rolls': 1675, 'Vietnamese': 1676, 'Vietnamese Salad': 1677, 'Vietnamese Thai Burmese Japanese': 1678}"
   ]
  }
 ],
 "metadata": {
  "kernelspec": {
   "display_name": "Python 3.9.12 ('base')",
   "language": "python",
   "name": "python3"
  },
  "language_info": {
   "codemirror_mode": {
    "name": "ipython",
    "version": 3
   },
   "file_extension": ".py",
   "mimetype": "text/x-python",
   "name": "python",
   "nbconvert_exporter": "python",
   "pygments_lexer": "ipython3",
   "version": "3.9.12"
  },
  "orig_nbformat": 4,
  "vscode": {
   "interpreter": {
    "hash": "817592fd77b211ec5d2a7a9515b4dedd1ec2c26afa0d738534d682708551f5d8"
   }
  }
 },
 "nbformat": 4,
 "nbformat_minor": 2
}
